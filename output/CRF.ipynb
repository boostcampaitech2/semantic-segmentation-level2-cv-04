{
 "cells": [
  {
   "cell_type": "code",
   "execution_count": null,
   "metadata": {},
   "outputs": [],
   "source": [
    "import numpy as np\n",
    "import pydensecrf.densecrf as dcrf\n",
    "from skimage.io import imread\n",
    "from skimage.transform import resize\n",
    "from pydensecrf.utils import unary_from_labels\n",
    "import matplotlib.pyplot as plt\n",
    "from matplotlib.patches import Patch\n",
    "import pandas as pd\n",
    "import webcolors\n",
    "from tqdm import tqdm\n",
    "%matplotlib inline"
   ]
  },
  {
   "cell_type": "code",
   "execution_count": null,
   "metadata": {},
   "outputs": [],
   "source": [
    "class_colormap = [[0,0,0],\n",
    "               [192,0,128],\n",
    "               [0,128,192],\n",
    "               [0,128,64],\n",
    "               [128,0,0],\n",
    "               [172,224,64],\n",
    "               [244,64,60],\n",
    "               [192,128,64],\n",
    "               [192,192,128],\n",
    "               [255,200,224],\n",
    "               [128,0,192]]\n",
    "CLASSES = (\"Backgroud\", \"General trash\", \"Paper\", \"Paper pack\", \"Metal\", \"Glass\", \"Plastic\", \"Styrofoam\", \"Plastic bag\", \"Battery\", \"Clothing\")"
   ]
  },
  {
   "cell_type": "code",
   "execution_count": null,
   "metadata": {},
   "outputs": [],
   "source": [
    "def create_trash_label_colormap():\n",
    "    \"\"\"Creates a label colormap used in Trash segmentation.\n",
    "    Returns:\n",
    "        A colormap for visualizing segmentation results.\n",
    "    \"\"\"\n",
    "    colormap = np.zeros((11, 3), dtype=np.uint8)\n",
    "    for inex, (r, g, b) in enumerate(class_colormap):\n",
    "        colormap[inex] = [r, g, b]\n",
    "    \n",
    "    return colormap\n",
    "\n",
    "def label_to_color_image(label):\n",
    "    \"\"\"Adds color defined by the dataset colormap to the label.\n",
    "\n",
    "    Args:\n",
    "        label: A 2D array with integer type, storing the segmentation label.\n",
    "\n",
    "    Returns:\n",
    "        result: A 2D array with floating type. The element of the array\n",
    "                is the color indexed by the corresponding element in the input label\n",
    "                to the trash color map.\n",
    "\n",
    "    Raises:\n",
    "        ValueError: If label is not of rank 2 or its value is larger than color\n",
    "              map maximum entry.\n",
    "    \"\"\"\n",
    "    if label.ndim != 2:\n",
    "        raise ValueError('Expect 2-D input label')\n",
    "\n",
    "    colormap = create_trash_label_colormap()\n",
    "\n",
    "    if np.max(label) >= len(colormap):\n",
    "        raise ValueError('label value too large.')\n",
    "\n",
    "    return colormap[label]"
   ]
  },
  {
   "cell_type": "code",
   "execution_count": null,
   "metadata": {},
   "outputs": [],
   "source": [
    "def decode(PredictionString):\n",
    "    mask = PredictionString.split()\n",
    "    img = np.zeros(256*256, dtype=np.uint8)\n",
    "    for i, m, in enumerate(mask):\n",
    "        img[i] = int(m)\n",
    "    return img.reshape(256,256)\n",
    "\n",
    "def encode(im):\n",
    "    pixels = im.flatten()\n",
    "    return ' '.join(str(x) for x in pixels)"
   ]
  },
  {
   "cell_type": "code",
   "execution_count": null,
   "metadata": {},
   "outputs": [],
   "source": [
    "\"\"\"\n",
    "reading and decoding the submission \n",
    "\n",
    "\"\"\"\n",
    "df = pd.read_csv('./submission.csv')\n",
    "i = 0\n",
    "j = 0\n",
    "plt.figure(figsize=(30,15))\n",
    "plt.subplots_adjust(bottom=0.2, top=0.8, hspace=0.2)  #adjust this to change vertical and horiz. spacings..\n",
    "# Visualizing the predicted outputs\n",
    "while True:\n",
    "    if str(df.loc[i,'PredictionString'])!=str(np.nan):        \n",
    "        decoded_mask = decode(df.loc[i,'PredictionString'])\n",
    "        plt.subplot(1,6,j+1)\n",
    "        plt.imshow(decoded_mask)\n",
    "        plt.title('ID: '+df.loc[i,'image_id'])\n",
    "        j = j + 1\n",
    "        if j>5:\n",
    "            break\n",
    "    i = i + 1"
   ]
  },
  {
   "cell_type": "code",
   "execution_count": null,
   "metadata": {},
   "outputs": [],
   "source": [
    "\"\"\"\n",
    "Function which returns the labelled image after applying CRF\n",
    "\n",
    "\"\"\"\n",
    "#Original_image = Image which has to labelled\n",
    "#Mask image = Which has been labelled by some technique..\n",
    "\n",
    "def crf(original_image, mask_img):\n",
    "    \n",
    "    labels = mask_img.flatten()\n",
    "\n",
    "    # print(len(labels))\n",
    "    n_labels = 11\n",
    "    \n",
    "    #Setting up the CRF model\n",
    "    d = dcrf.DenseCRF2D(256, 256, n_labels)\n",
    "\n",
    "    # get unary potentials (neg log probability)\n",
    "    U = unary_from_labels(labels, n_labels, gt_prob=0.7, zero_unsure=False)\n",
    "    d.setUnaryEnergy(U)\n",
    "\n",
    "    # This adds the color-independent term, features are the locations only.\n",
    "    d.addPairwiseGaussian(sxy=3, compat=3, kernel=dcrf.DIAG_KERNEL, normalization=dcrf.NORMALIZE_SYMMETRIC)\n",
    "\n",
    "    # This adds the color-dependent term, i.e. features are (x,y,r,g,b).\n",
    "    d.addPairwiseBilateral(sxy=30, srgb=5, rgbim=original_image, compat=5)\n",
    "    \n",
    "    Q = d.inference(45)\n",
    "\n",
    "    # Find out the most probable class for each pixel.\n",
    "    MAP = np.argmax(Q, axis=0)\n",
    "\n",
    "    return MAP.reshape((256, 256))"
   ]
  },
  {
   "cell_type": "code",
   "execution_count": null,
   "metadata": {},
   "outputs": [],
   "source": [
    "test_path = '../input/data/'"
   ]
  },
  {
   "cell_type": "code",
   "execution_count": null,
   "metadata": {},
   "outputs": [],
   "source": [
    "\"\"\"\n",
    "visualizing the effect of applying CRF\n",
    "\n",
    "\"\"\"\n",
    "nImgs = 5 # num of image to show\n",
    "i = 0     # image idx\n",
    "j = 1\n",
    "plt.figure(figsize=(20,20))\n",
    "plt.subplots_adjust(wspace=0.2,hspace=0.2)  #adjust this to change vertical and horiz. spacings..\n",
    "\n",
    "category_and_rgb = [[CLASSES[idx], (r,g,b)] for idx, (r, g, b) in enumerate(class_colormap)]\n",
    "legend_elements = [Patch(facecolor=webcolors.rgb_to_hex(rgb), edgecolor=webcolors.rgb_to_hex(rgb), label=category) for category, rgb in category_and_rgb]\n",
    "     \n",
    "while True:\n",
    "    if str(df.loc[i,'PredictionString'])!=str(np.nan):        \n",
    "        decoded_mask = decode(df.loc[i,'PredictionString'])        \n",
    "        orig_img = imread(test_path+df.loc[i,'image_id'])\n",
    "        orig_img = resize(orig_img, (256, 256, 3))\n",
    "        orig_img = np.uint8(255 * orig_img)\n",
    "        #Applying CRF on FCN-16 annotated image\n",
    "        crf_output = crf(orig_img,decoded_mask)\n",
    "        plt.subplot(nImgs,4,4*j-3)\n",
    "        plt.imshow(orig_img)\n",
    "        plt.title('Original image')\n",
    "        plt.subplot(nImgs,4,4*j-2)\n",
    "        plt.imshow(label_to_color_image(decoded_mask)) \n",
    "        plt.title('Original Mask')\n",
    "        plt.subplot(nImgs,4,4*j-1)\n",
    "        plt.imshow(label_to_color_image(crf_output)) \n",
    "        plt.title('Mask after CRF')\n",
    "        plt.legend(handles=legend_elements, bbox_to_anchor=(1.05, 1), loc=2, borderaxespad=0)\n",
    "\n",
    "        if j == nImgs:\n",
    "            break\n",
    "        else:\n",
    "            j = j + 1\n",
    "    i = i + 1"
   ]
  },
  {
   "cell_type": "code",
   "execution_count": null,
   "metadata": {},
   "outputs": [],
   "source": [
    "\"\"\"\n",
    "Applying CRF on the predicted mask \n",
    "\n",
    "\"\"\"\n",
    "for i in tqdm(range(df.shape[0])):\n",
    "    if str(df.loc[i,'PredictionString'])!=str(np.nan):        \n",
    "        decoded_mask = decode(df.loc[i,'PredictionString'])        \n",
    "        orig_img = imread(test_path+df.loc[i,'image_id'])\n",
    "        orig_img = resize(orig_img, (256, 256, 3))\n",
    "        orig_img = np.uint8(255 * orig_img)\n",
    "        crf_output = crf(orig_img,decoded_mask)\n",
    "        df.loc[i,'PredictionString'] = encode(crf_output)"
   ]
  },
  {
   "cell_type": "code",
   "execution_count": null,
   "metadata": {},
   "outputs": [],
   "source": [
    "df.to_csv('submission_crf.csv',index=False)"
   ]
  },
  {
   "cell_type": "code",
   "execution_count": null,
   "metadata": {},
   "outputs": [],
   "source": []
  }
 ],
 "metadata": {
  "interpreter": {
   "hash": "6e99cfe236543d084a347d5a8a57f24d4d3fa9733302fd237488c8b2bb8d3c2f"
  },
  "kernelspec": {
   "display_name": "Python 3.6.9 64-bit ('crf': conda)",
   "name": "python3"
  },
  "language_info": {
   "codemirror_mode": {
    "name": "ipython",
    "version": 3
   },
   "file_extension": ".py",
   "mimetype": "text/x-python",
   "name": "python",
   "nbconvert_exporter": "python",
   "pygments_lexer": "ipython3",
   "version": "3.6.9"
  }
 },
 "nbformat": 4,
 "nbformat_minor": 4
}
