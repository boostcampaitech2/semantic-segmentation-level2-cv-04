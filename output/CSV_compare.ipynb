{
 "cells": [
  {
   "cell_type": "code",
   "execution_count": null,
   "metadata": {},
   "outputs": [],
   "source": [
    "import numpy as np\n",
    "from skimage.io import imread\n",
    "from skimage.transform import resize\n",
    "from matplotlib.patches import Patch\n",
    "import matplotlib.pyplot as plt\n",
    "import pandas as pd\n",
    "import webcolors\n",
    "%matplotlib inline"
   ]
  },
  {
   "cell_type": "code",
   "execution_count": null,
   "metadata": {},
   "outputs": [],
   "source": [
    "class_colormap = [[0,0,0],\n",
    "               [192,0,128],\n",
    "               [0,128,192],\n",
    "               [0,128,64],\n",
    "               [128,0,0],\n",
    "               [172,224,64],\n",
    "               [244,64,60],\n",
    "               [192,128,64],\n",
    "               [192,192,128],\n",
    "               [255,200,224],\n",
    "               [128,0,192]]\n",
    "CLASSES = (\"Backgroud\", \"General trash\", \"Paper\", \"Paper pack\", \"Metal\", \"Glass\", \"Plastic\", \"Styrofoam\", \"Plastic bag\", \"Battery\", \"Clothing\")"
   ]
  },
  {
   "cell_type": "code",
   "execution_count": null,
   "metadata": {},
   "outputs": [],
   "source": [
    "def create_trash_label_colormap():\n",
    "    \"\"\"Creates a label colormap used in Trash segmentation.\n",
    "    Returns:\n",
    "        A colormap for visualizing segmentation results.\n",
    "    \"\"\"\n",
    "    colormap = np.zeros((11, 3), dtype=np.uint8)\n",
    "    for inex, (r, g, b) in enumerate(class_colormap):\n",
    "        colormap[inex] = [r, g, b]\n",
    "    \n",
    "    return colormap\n",
    "\n",
    "def label_to_color_image(label):\n",
    "    \"\"\"Adds color defined by the dataset colormap to the label.\n",
    "\n",
    "    Args:\n",
    "        label: A 2D array with integer type, storing the segmentation label.\n",
    "\n",
    "    Returns:\n",
    "        result: A 2D array with floating type. The element of the array\n",
    "                is the color indexed by the corresponding element in the input label\n",
    "                to the trash color map.\n",
    "\n",
    "    Raises:\n",
    "        ValueError: If label is not of rank 2 or its value is larger than color\n",
    "              map maximum entry.\n",
    "    \"\"\"\n",
    "    if label.ndim != 2:\n",
    "        raise ValueError('Expect 2-D input label')\n",
    "\n",
    "    colormap = create_trash_label_colormap()\n",
    "\n",
    "    if np.max(label) >= len(colormap):\n",
    "        raise ValueError('label value too large.')\n",
    "\n",
    "    return colormap[label]"
   ]
  },
  {
   "cell_type": "code",
   "execution_count": null,
   "metadata": {},
   "outputs": [],
   "source": [
    "def decode(PredictionString):\n",
    "    mask = PredictionString.split()\n",
    "    img = np.zeros(256*256, dtype=np.uint8)\n",
    "    for i, m, in enumerate(mask):\n",
    "        img[i] = int(m)\n",
    "    return img.reshape(256,256)"
   ]
  },
  {
   "cell_type": "code",
   "execution_count": null,
   "metadata": {},
   "outputs": [],
   "source": [
    "df_1 = pd.read_csv('./submission_test1.csv')\n",
    "df_2 = pd.read_csv('./submission_test2.csv')\n",
    "df_3 = pd.read_csv('./submission_test3.csv')"
   ]
  },
  {
   "cell_type": "code",
   "execution_count": null,
   "metadata": {},
   "outputs": [],
   "source": [
    "test_path = '../input/data/'"
   ]
  },
  {
   "cell_type": "code",
   "execution_count": null,
   "metadata": {},
   "outputs": [],
   "source": [
    "\"\"\"\n",
    "visualizing the effect of applying CRF\n",
    "\n",
    "\"\"\"\n",
    "nImgs = 10 # num of image to load\n",
    "i = 0    # img idx\n",
    "j = 1\n",
    "plt.figure(figsize=(20,40))\n",
    "plt.subplots_adjust(wspace=0.2,hspace=0.3)  #adjust this to change vertical and horiz. spacings..\n",
    "\n",
    "category_and_rgb = [[CLASSES[idx], (r,g,b)] for idx, (r, g, b) in enumerate(class_colormap)]\n",
    "legend_elements = [Patch(facecolor=webcolors.rgb_to_hex(rgb), edgecolor=webcolors.rgb_to_hex(rgb), label=category) for category, rgb in category_and_rgb]\n",
    "                             \n",
    "while True:\n",
    "    if str(df_1.loc[i,'PredictionString'])!=str(np.nan):        \n",
    "        decoded_mask_1 = decode(df_1.loc[i,'PredictionString']) \n",
    "        decoded_mask_2 = decode(df_2.loc[i,'PredictionString']) \n",
    "        decoded_mask_3 = decode(df_3.loc[i,'PredictionString'])        \n",
    "        orig_img = imread(test_path+df_1.loc[i,'image_id'])\n",
    "        orig_img = resize(orig_img, (256, 256, 3))\n",
    "        orig_img = np.uint8(255 * orig_img)\n",
    "        #Applying CRF on FCN-16 annotated image\n",
    "        plt.subplot(nImgs,5,5*j-4)\n",
    "        plt.imshow(orig_img)\n",
    "        plt.title('Original image')\n",
    "        plt.subplot(nImgs,5,5*j-3)\n",
    "        plt.imshow(label_to_color_image(decoded_mask_1)) \n",
    "        plt.title('submission_test1')\n",
    "        plt.subplot(nImgs,5,5*j-2)\n",
    "        plt.imshow(label_to_color_image(decoded_mask_2)) \n",
    "        plt.title('submission_test2')\n",
    "        plt.subplot(nImgs,5,5*j-1)\n",
    "        plt.imshow(label_to_color_image(decoded_mask_3)) \n",
    "        plt.title('submission_test3')\n",
    "        plt.legend(handles=legend_elements, bbox_to_anchor=(1.05, 1), loc=2, borderaxespad=0)\n",
    "        if j == nImgs:\n",
    "            break\n",
    "        else:\n",
    "            j = j + 1\n",
    "    i = i + 1"
   ]
  }
 ],
 "metadata": {
  "interpreter": {
   "hash": "6e99cfe236543d084a347d5a8a57f24d4d3fa9733302fd237488c8b2bb8d3c2f"
  },
  "kernelspec": {
   "display_name": "Python 3.6.9 64-bit ('crf': conda)",
   "name": "python3"
  },
  "language_info": {
   "codemirror_mode": {
    "name": "ipython",
    "version": 3
   },
   "file_extension": ".py",
   "mimetype": "text/x-python",
   "name": "python",
   "nbconvert_exporter": "python",
   "pygments_lexer": "ipython3",
   "version": "3.6.9"
  }
 },
 "nbformat": 4,
 "nbformat_minor": 4
}
