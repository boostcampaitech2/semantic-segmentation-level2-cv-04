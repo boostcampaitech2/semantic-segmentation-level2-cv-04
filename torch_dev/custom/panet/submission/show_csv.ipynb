{
 "cells": [
  {
   "cell_type": "code",
   "execution_count": null,
   "metadata": {},
   "outputs": [],
   "source": [
    "import os\n",
    "import cv2\n",
    "import csv\n",
    "import pandas as pd\n",
    "from matplotlib.patches import Patch\n",
    "import matplotlib.pyplot as plt\n",
    "import numpy as np\n",
    "import webcolors"
   ]
  },
  {
   "cell_type": "code",
   "execution_count": null,
   "metadata": {},
   "outputs": [],
   "source": [
    "submission_path = './submission.csv' # 모델이 생성한 제출용 csv 파일 위치 \n",
    "root='../../input/data/' # 재활용 데이터 경로"
   ]
  },
  {
   "cell_type": "code",
   "execution_count": null,
   "metadata": {},
   "outputs": [],
   "source": [
    "class_colormap = [[0,0,0],\n",
    "               [192,0,128],\n",
    "               [0,128,192],\n",
    "               [0,128,64],\n",
    "               [128,0,0],\n",
    "               [64,0,128],\n",
    "               [64,0,192],\n",
    "               [192,128,64],\n",
    "               [192,192,128],\n",
    "               [64,64,128],\n",
    "               [128,0,192]]\n",
    "CLASSES = (\"Backgroud\", \"General trash\", \"Paper\", \"Paper pack\", \"Metal\", \"Glass\", \"Plastic\", \"Styrofoam\", \"Plastic bag\", \"Battery\", \"Clothing\")\n"
   ]
  },
  {
   "cell_type": "code",
   "execution_count": null,
   "metadata": {},
   "outputs": [],
   "source": [
    "def create_trash_label_colormap():\n",
    "    \"\"\"Creates a label colormap used in Trash segmentation.\n",
    "    Returns:\n",
    "        A colormap for visualizing segmentation results.\n",
    "    \"\"\"\n",
    "    colormap = np.zeros((11, 3), dtype=np.uint8)\n",
    "    for inex, (r, g, b) in enumerate(class_colormap):\n",
    "        colormap[inex] = [r, g, b]\n",
    "    \n",
    "    return colormap\n",
    "\n",
    "def label_to_color_image(label):\n",
    "    \"\"\"Adds color defined by the dataset colormap to the label.\n",
    "\n",
    "    Args:\n",
    "        label: A 2D array with integer type, storing the segmentation label.\n",
    "\n",
    "    Returns:\n",
    "        result: A 2D array with floating type. The element of the array\n",
    "                is the color indexed by the corresponding element in the input label\n",
    "                to the trash color map.\n",
    "\n",
    "    Raises:\n",
    "        ValueError: If label is not of rank 2 or its value is larger than color\n",
    "              map maximum entry.\n",
    "    \"\"\"\n",
    "    if label.ndim != 2:\n",
    "        raise ValueError('Expect 2-D input label')\n",
    "\n",
    "    colormap = create_trash_label_colormap()\n",
    "\n",
    "    if np.max(label) >= len(colormap):\n",
    "        raise ValueError('label value too large.')\n",
    "\n",
    "    return colormap[label]\n"
   ]
  },
  {
   "cell_type": "code",
   "execution_count": null,
   "metadata": {},
   "outputs": [],
   "source": [
    "def visualization(num_examples, index):\n",
    "    category_and_rgb = [[CLASSES[idx], (r,g,b)] for idx, (r, g, b) in enumerate(class_colormap)]\n",
    "    legend_elements = [Patch(facecolor=webcolors.rgb_to_hex(rgb), \n",
    "                             edgecolor=webcolors.rgb_to_hex(rgb), \n",
    "                             label=category) for category, rgb in category_and_rgb]\n",
    "    \n",
    "    images = []\n",
    "    submission = pd.read_csv(submission_path, index_col=None)[index:index + num_examples]\n",
    "    image_ids=submission[\"image_id\"].values\n",
    "    masks = submission[\"PredictionString\"].values\n",
    "\n",
    "    # image load\n",
    "    for i in range(num_examples):\n",
    "        image_id = image_ids[i]\n",
    "        image = cv2.imread(os.path.join(root, image_id))\n",
    "        image = cv2.cvtColor(image, cv2.COLOR_BGR2RGB)\n",
    "        images.append(image)\n",
    "\n",
    "    # mask load\n",
    "    for m in range(num_examples):\n",
    "        # mask = masks[i].split()\n",
    "        mask = list(map(int, masks[m].split()))\n",
    "        mask = np.array(mask)\n",
    "        mask = np.reshape(mask, (-1, 256))\n",
    "        masks[m] = mask\n",
    "        \n",
    "    # plt 생성\n",
    "    fig, ax = plt.subplots(nrows=num_examples, ncols=2, figsize=(10, 4*num_examples), constrained_layout=True)\n",
    "    \n",
    "    for row_num in range(num_examples):\n",
    "        \n",
    "        # Original Image\n",
    "        ax[row_num][0].imshow(images[row_num])\n",
    "        ax[row_num][0].set_title(f\"Orignal Image : {image_ids[row_num]}\")\n",
    "        \n",
    "        # Pred Mask\n",
    "        ax[row_num][1].imshow(label_to_color_image(masks[row_num]))\n",
    "        ax[row_num][1].set_title(f\"Pred Mask : {image_ids[row_num]}\")\n",
    "        ax[row_num][1].legend(handles=legend_elements, bbox_to_anchor=(1.05, 1), loc=2, borderaxespad=0)\n",
    "\n",
    "    plt.show()"
   ]
  },
  {
   "cell_type": "code",
   "execution_count": null,
   "metadata": {},
   "outputs": [],
   "source": [
    "visualization(5, 100)"
   ]
  }
 ],
 "metadata": {
  "interpreter": {
   "hash": "d36e052b391be8c28b05838ade06426769a29575d5fe21a7bc69c7dec0c04c06"
  },
  "kernelspec": {
   "display_name": "Python 3.7.11 64-bit ('segmentation': conda)",
   "name": "python3"
  },
  "language_info": {
   "codemirror_mode": {
    "name": "ipython",
    "version": 3
   },
   "file_extension": ".py",
   "mimetype": "text/x-python",
   "name": "python",
   "nbconvert_exporter": "python",
   "pygments_lexer": "ipython3",
   "version": "3.7.11"
  },
  "orig_nbformat": 4
 },
 "nbformat": 4,
 "nbformat_minor": 2
}
