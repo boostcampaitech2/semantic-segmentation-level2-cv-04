{
 "cells": [
  {
   "cell_type": "code",
   "execution_count": 1,
   "metadata": {},
   "outputs": [],
   "source": [
    "import os\n",
    "import mmcv\n",
    "\n",
    "from mmcv import Config\n",
    "from mmseg.datasets import build_dataloader, build_dataset\n",
    "from mmseg.models import build_segmentor\n",
    "from mmseg.apis import single_gpu_test\n",
    "from mmcv.runner import load_checkpoint\n",
    "from mmcv.parallel import MMDataParallel\n",
    "\n",
    "import pandas as pd\n",
    "import numpy as np\n",
    "import json"
   ]
  },
  {
   "cell_type": "markdown",
   "metadata": {},
   "source": [
    "## Need to change code \n",
    "\n",
    "### code from mmseg/model/segmentors/encoder_decoder.py\n",
    "\n",
    "### change code line 282 from seg_pred = seg_logit.argmax(dim=1) to seg_pred = seg_logit "
   ]
  },
  {
   "cell_type": "code",
   "execution_count": 2,
   "metadata": {},
   "outputs": [
    {
     "name": "stderr",
     "output_type": "stream",
     "text": [
      "2021-11-01 02:48:56,168 - mmseg - INFO - Loaded 819 images\n",
      "/opt/ml/segmentation/mmsegmentation/mmseg/models/backbones/swin.py:553: UserWarning: DeprecationWarning: pretrained is deprecated, please use \"init_cfg\" instead\n",
      "  warnings.warn('DeprecationWarning: pretrained is deprecated, '\n"
     ]
    },
    {
     "name": "stdout",
     "output_type": "stream",
     "text": [
      "Use load_from_local loader\n"
     ]
    }
   ],
   "source": [
    "# config file 들고오기\n",
    "cfg = Config.fromfile('./configs/_custom_/models/upernet_swin_l.py')\n",
    "root='../input/mmseg/test/'\n",
    "epoch = 'latest'\n",
    "\n",
    "# dataset config 수정\n",
    "cfg.data.test.img_dir = root\n",
    "cfg.data.test.pipeline[1]['img_scale'] = (512,512) # Resize\n",
    "cfg.data.test.test_mode = True\n",
    "\n",
    "cfg.data.samples_per_gpu = 1\n",
    "\n",
    "cfg.work_dir = '../output/mmseg/upernet_swin_l_alldata'\n",
    "\n",
    "cfg.optimizer_config.grad_clip = dict(max_norm=35, norm_type=2)\n",
    "cfg.model.train_cfg = None\n",
    "\n",
    "# checkpoint path\n",
    "checkpoint_path = os.path.join(cfg.work_dir, f'{epoch}.pth')\n",
    "\n",
    "dataset = build_dataset(cfg.data.test)\n",
    "data_loader = build_dataloader(\n",
    "        dataset,\n",
    "        samples_per_gpu=cfg.data.samples_per_gpu,\n",
    "        workers_per_gpu=cfg.data.workers_per_gpu,\n",
    "        dist=False,\n",
    "        shuffle=False)\n",
    "\n",
    "model1 = build_segmentor(cfg.model, test_cfg=cfg.get('test_cfg'))\n",
    "checkpoint = load_checkpoint(model1, checkpoint_path, map_location='cpu')\n",
    "\n",
    "model1.CLASSES = dataset.CLASSES\n",
    "model1 = MMDataParallel(model1.cuda(), device_ids=[0])"
   ]
  },
  {
   "cell_type": "code",
   "execution_count": 3,
   "metadata": {},
   "outputs": [
    {
     "name": "stderr",
     "output_type": "stream",
     "text": [
      "2021-11-01 02:49:04,008 - mmseg - INFO - Loaded 819 images\n"
     ]
    },
    {
     "name": "stdout",
     "output_type": "stream",
     "text": [
      "Use load_from_local loader\n"
     ]
    }
   ],
   "source": [
    "# config file 들고오기\n",
    "cfg = Config.fromfile('./configs/_custom_/models/upernet_swin_l.py')\n",
    "root='../input/mmseg/test/'\n",
    "epoch = 'epoch_45'\n",
    "\n",
    "# dataset config 수정\n",
    "cfg.data.test.img_dir = root\n",
    "cfg.data.test.pipeline[1]['img_scale'] = (512,512) # Resize\n",
    "cfg.data.test.test_mode = True\n",
    "\n",
    "cfg.data.samples_per_gpu = 1\n",
    "\n",
    "cfg.work_dir = '../output/mmseg/upernet_swin_l_alldata'\n",
    "\n",
    "cfg.optimizer_config.grad_clip = dict(max_norm=35, norm_type=2)\n",
    "cfg.model.train_cfg = None\n",
    "\n",
    "# checkpoint path\n",
    "checkpoint_path = os.path.join(cfg.work_dir, f'{epoch}.pth')\n",
    "\n",
    "dataset = build_dataset(cfg.data.test)\n",
    "data_loader = build_dataloader(\n",
    "        dataset,\n",
    "        samples_per_gpu=cfg.data.samples_per_gpu,\n",
    "        workers_per_gpu=cfg.data.workers_per_gpu,\n",
    "        dist=False,\n",
    "        shuffle=False)\n",
    "\n",
    "model2 = build_segmentor(cfg.model, test_cfg=cfg.get('test_cfg'))\n",
    "checkpoint = load_checkpoint(model2, checkpoint_path, map_location='cpu')\n",
    "\n",
    "model2.CLASSES = dataset.CLASSES\n",
    "model2 = MMDataParallel(model2.cuda(), device_ids=[0])"
   ]
  },
  {
   "cell_type": "code",
   "execution_count": 4,
   "metadata": {},
   "outputs": [
    {
     "name": "stderr",
     "output_type": "stream",
     "text": [
      "2021-11-01 02:49:08,369 - mmseg - INFO - Loaded 819 images\n"
     ]
    },
    {
     "name": "stdout",
     "output_type": "stream",
     "text": [
      "Use load_from_local loader\n"
     ]
    }
   ],
   "source": [
    "# config file 들고오기\n",
    "cfg = Config.fromfile('./configs/_custom_/models/upernet_swin_l.py')\n",
    "root='../input/mmseg/test/'\n",
    "epoch = 'epoch_40'\n",
    "\n",
    "# dataset config 수정\n",
    "cfg.data.test.img_dir = root\n",
    "cfg.data.test.pipeline[1]['img_scale'] = (512,512) # Resize\n",
    "cfg.data.test.test_mode = True\n",
    "\n",
    "cfg.data.samples_per_gpu = 1\n",
    "\n",
    "cfg.work_dir = '../output/mmseg/upernet_swin_l_alldata'\n",
    "\n",
    "cfg.optimizer_config.grad_clip = dict(max_norm=35, norm_type=2)\n",
    "cfg.model.train_cfg = None\n",
    "\n",
    "# checkpoint path\n",
    "checkpoint_path = os.path.join(cfg.work_dir, f'{epoch}.pth')\n",
    "\n",
    "dataset = build_dataset(cfg.data.test)\n",
    "data_loader = build_dataloader(\n",
    "        dataset,\n",
    "        samples_per_gpu=cfg.data.samples_per_gpu,\n",
    "        workers_per_gpu=cfg.data.workers_per_gpu,\n",
    "        dist=False,\n",
    "        shuffle=False)\n",
    "\n",
    "model3 = build_segmentor(cfg.model, test_cfg=cfg.get('test_cfg'))\n",
    "checkpoint = load_checkpoint(model3, checkpoint_path, map_location='cpu')\n",
    "\n",
    "model3.CLASSES = dataset.CLASSES\n",
    "model3 = MMDataParallel(model3.cuda(), device_ids=[0])"
   ]
  },
  {
   "cell_type": "code",
   "execution_count": 5,
   "metadata": {},
   "outputs": [
    {
     "name": "stdout",
     "output_type": "stream",
     "text": [
      "[>>>>>>>>>>>>>>>>>>>>>>>>>>>>] 819/819, 0.5 task/s, elapsed: 1515s, ETA:     0soutput1 done\n",
      "[>>>>>>>>>>>>>>>>>>>>>>>>>>>>] 819/819, 0.5 task/s, elapsed: 1516s, ETA:     0soutput2 done\n",
      "[>>>>>>>>>>>>>>>>>>>>>>>>>>>>] 819/819, 0.5 task/s, elapsed: 1516s, ETA:     0soutput3 done\n"
     ]
    }
   ],
   "source": [
    "output1 = single_gpu_test(model1, data_loader)\n",
    "print(\"output1 done\")\n",
    "output2 = single_gpu_test(model2, data_loader)\n",
    "print(\"output2 done\")\n",
    "output3 = single_gpu_test(model3, data_loader)\n",
    "print(\"output3 done\")"
   ]
  },
  {
   "cell_type": "code",
   "execution_count": 11,
   "metadata": {},
   "outputs": [
    {
     "name": "stdout",
     "output_type": "stream",
     "text": [
      "(819, 512, 512)\n"
     ]
    }
   ],
   "source": [
    "output = []\n",
    "\n",
    "for predict1, predict2, predict3 in zip(output1, output2, output3):\n",
    "  predict = predict1 + predict2 + predict3\n",
    "  predict = predict.argmax(axis=0)\n",
    "  output.append(predict)\n",
    "\n",
    "output = np.array(output)\n",
    "print(output.shape)"
   ]
  },
  {
   "cell_type": "code",
   "execution_count": 12,
   "metadata": {},
   "outputs": [],
   "source": [
    "# sample_submisson.csv 열기\n",
    "submission = pd.read_csv('../output/sample_submission.csv', index_col=None)\n",
    "json_dir = os.path.join(\"../input/data/test.json\")\n",
    "with open(json_dir, \"r\", encoding=\"utf8\") as outfile:\n",
    "    datas = json.load(outfile)\n",
    "\n",
    "input_size = 512\n",
    "output_size = 256\n",
    "bin_size = input_size // output_size\n",
    "\t\t\n",
    "# PredictionString 대입\n",
    "for image_id, predict in enumerate(output):\n",
    "    image_id = datas[\"images\"][image_id]\n",
    "    file_name = image_id[\"file_name\"]\n",
    "    \n",
    "    temp_mask = []\n",
    "    predict = predict.reshape(1, 512, 512)\n",
    "    mask = predict.reshape((1, output_size, bin_size, output_size, bin_size)).max(4).max(2) # resize to 256*256\n",
    "    temp_mask.append(mask)\n",
    "    oms = np.array(temp_mask)\n",
    "    oms = oms.reshape([oms.shape[0], output_size*output_size]).astype(int)\n",
    "\n",
    "    string = oms.flatten()\n",
    "\n",
    "    submission = submission.append({\"image_id\" : file_name, \"PredictionString\" : ' '.join(str(e) for e in string.tolist())}, \n",
    "                                   ignore_index=True)\n",
    "\n",
    "# submission.csv로 저장\n",
    "submission.to_csv(os.path.join('../output/', f'ensemble_{epoch}.csv'), index=False)"
   ]
  },
  {
   "cell_type": "code",
   "execution_count": null,
   "metadata": {},
   "outputs": [],
   "source": [
    "\"\"\"\n",
    "# reference : https://stackoverflow.com/questions/48121916/numpy-resize-rescale-image\n",
    "input_size = 512\n",
    "output_size = 256\n",
    "bin_size = input_size // output_size\n",
    "\n",
    "for image_id, predict in enumerate(output):\n",
    "  temp_mask = []\n",
    "  predict = predict.reshape(1, 512, 512)\n",
    "  print(predict.shape)\n",
    "  mask = predict.reshape((1, output_size, bin_size, output_size, bin_size)).max(4).max(2)\n",
    "  print(mask.shape)\n",
    "  temp_mask.append(mask)\n",
    "  \n",
    "  oms = np.array(temp_mask)\n",
    "  oms = oms.reshape([oms.shape[0], output_size*output_size]).astype(int)\n",
    "  print(oms.shape)\n",
    "  predict = oms\n",
    "  print(predict.shape)\n",
    "\"\"\""
   ]
  }
 ],
 "metadata": {
  "interpreter": {
   "hash": "c31e71a5e498f0aaae29fa2d4fcce91b7642bc45d7bb4c98f573abb4911baaab"
  },
  "kernelspec": {
   "display_name": "Python 3.7.10 64-bit ('mmseg': conda)",
   "name": "python3"
  },
  "language_info": {
   "codemirror_mode": {
    "name": "ipython",
    "version": 3
   },
   "file_extension": ".py",
   "mimetype": "text/x-python",
   "name": "python",
   "nbconvert_exporter": "python",
   "pygments_lexer": "ipython3",
   "version": "3.7.10"
  }
 },
 "nbformat": 4,
 "nbformat_minor": 4
}
