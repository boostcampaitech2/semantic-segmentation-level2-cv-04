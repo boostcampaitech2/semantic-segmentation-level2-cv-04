{
 "cells": [
  {
   "cell_type": "code",
   "execution_count": null,
   "metadata": {},
   "outputs": [],
   "source": [
    "import os\n",
    "\n",
    "from mmcv import Config\n",
    "from mmseg.datasets import build_dataloader, build_dataset\n",
    "from mmseg.models import build_segmentor\n",
    "from mmseg.apis import single_gpu_test\n",
    "from mmcv.runner import load_checkpoint\n",
    "from mmcv.parallel import MMDataParallel\n",
    "\n",
    "import pandas as pd\n",
    "import numpy as np\n",
    "import json"
   ]
  },
  {
   "cell_type": "markdown",
   "metadata": {},
   "source": [
    "## Need to change code \n",
    "\n",
    "### code from mmseg/model/segmentors/encoder_decoder.py\n",
    "\n",
    "### change code line 282 from seg_pred = seg_logit.argmax(dim=1) to seg_pred = seg_logit "
   ]
  },
  {
   "cell_type": "code",
   "execution_count": null,
   "metadata": {},
   "outputs": [],
   "source": [
    "# config file 들고오기\n",
    "cfg = Config.fromfile('./configs/_custom_/models/upernet_swin_l.py')\n",
    "root='../input/mmseg/test/'\n",
    "epoch = 'latest'\n",
    "\n",
    "# dataset config 수정\n",
    "cfg.data.test.img_dir = root\n",
    "cfg.data.test.pipeline[1]['img_scale'] = (512,512) # Resize\n",
    "cfg.data.test.test_mode = True\n",
    "\n",
    "cfg.data.samples_per_gpu = 1\n",
    "\n",
    "cfg.work_dir = '../output/mmseg/upernet_swin_l_alldata'\n",
    "\n",
    "cfg.optimizer_config.grad_clip = dict(max_norm=35, norm_type=2)\n",
    "cfg.model.train_cfg = None\n",
    "\n",
    "# checkpoint path\n",
    "checkpoint_path = os.path.join(cfg.work_dir, f'{epoch}.pth')\n",
    "\n",
    "dataset = build_dataset(cfg.data.test)\n",
    "data_loader = build_dataloader(\n",
    "        dataset,\n",
    "        samples_per_gpu=cfg.data.samples_per_gpu,\n",
    "        workers_per_gpu=cfg.data.workers_per_gpu,\n",
    "        dist=False,\n",
    "        shuffle=False)\n",
    "\n",
    "model = build_segmentor(cfg.model, test_cfg=cfg.get('test_cfg'))\n",
    "checkpoint = load_checkpoint(model, checkpoint_path, map_location='cpu')\n",
    "\n",
    "model.CLASSES = dataset.CLASSES\n",
    "model = MMDataParallel(model.cuda(), device_ids=[0])"
   ]
  },
  {
   "cell_type": "code",
   "execution_count": null,
   "metadata": {},
   "outputs": [],
   "source": [
    "output_mmseg = single_gpu_test(model, data_loader)\n",
    "print(\"done\")"
   ]
  },
  {
   "cell_type": "code",
   "execution_count": null,
   "metadata": {},
   "outputs": [],
   "source": [
    "import os\n",
    "import torch\n",
    "import pandas as pd\n",
    "import numpy as np\n",
    "import yaml\n",
    "import ttach as tta\n",
    "\n",
    "from tools import test\n",
    "from model.custom_encoder import register_encoder\n",
    "import segmentation_models_pytorch as smp\n",
    "\n",
    "@torch.no_grad()\n",
    "def inference(cfg, device):\n",
    "    # custom encoder smp에 등록\n",
    "    register_encoder()\n",
    "\n",
    "    # TTA transform\n",
    "    tta_transforms = tta.Compose(\n",
    "    [\n",
    "        tta.HorizontalFlip(),\n",
    "        tta.VerticalFlip(),\n",
    "        tta.Scale(scales=[0.5, 0.75, 1.0, 1.25, 1.5])\n",
    "    ])\n",
    "   \n",
    "    model_path =  f\"{cfg['saved_dir']}/{cfg['exp_name']}/{cfg['exp_name']}.pt\"                                    \n",
    "    \n",
    "    # model 불러오기\n",
    "    model = smp.__dict__[cfg['model']['name']]\n",
    "    model = model(encoder_weights=None, **cfg['model']['params'])\n",
    "    # best model 불러오기\n",
    "    checkpoint = torch.load(model_path, map_location=device)\n",
    "    state_dict = checkpoint.state_dict()\n",
    "    model.load_state_dict(state_dict)\n",
    "\n",
    "    model = model.to(device)\n",
    "    # 추론을 실행하기 전에는 반드시 설정 (batch normalization, dropout 를 평가 모드로 설정)\n",
    "    model.eval()\n",
    "\n",
    "    tta_model = tta.SegmentationTTAWrapper(model, tta_transforms, merge_mode='mean')\n",
    "\n",
    "    # test set에 대한 prediction\n",
    "    file_names, preds = test(tta_model, data_loader, device)\n",
    "\n",
    "    return preds"
   ]
  },
  {
   "cell_type": "code",
   "execution_count": null,
   "metadata": {},
   "outputs": [],
   "source": [
    "\n",
    "yaml_path = \"/opt/ml/segmentation/baseline_code/saved/PAN_Swin_Alldata/PAN_Swin_Alldata.yaml\"\n",
    "\n",
    "with open(yaml_path) as f:\n",
    "    cfg = yaml.safe_load(f)\n",
    "\n",
    "device = \"cuda\" if torch.cuda.is_available() else \"cpu\"\n",
    "\n",
    "output_base = inference(cfg, device)"
   ]
  },
  {
   "cell_type": "code",
   "execution_count": null,
   "metadata": {},
   "outputs": [],
   "source": [
    "output = []\n",
    "\n",
    "for predict1, predict2 in zip(output_mmseg, output_base):\n",
    "  predict = predict1 + predict2\n",
    "  predict = predict.argmax(axis=0)\n",
    "  output.append(predict)\n",
    "\n",
    "output = np.array(output)\n",
    "print(output.shape)"
   ]
  },
  {
   "cell_type": "code",
   "execution_count": null,
   "metadata": {},
   "outputs": [],
   "source": [
    "# sample_submisson.csv 열기\n",
    "submission = pd.read_csv('../output/sample_submission.csv', index_col=None)\n",
    "json_dir = os.path.join(\"../input/data/test.json\")\n",
    "with open(json_dir, \"r\", encoding=\"utf8\") as outfile:\n",
    "    datas = json.load(outfile)\n",
    "\n",
    "input_size = 512\n",
    "output_size = 256\n",
    "bin_size = input_size // output_size\n",
    "\t\t\n",
    "# PredictionString 대입\n",
    "for image_id, predict in enumerate(output):\n",
    "    image_id = datas[\"images\"][image_id]\n",
    "    file_name = image_id[\"file_name\"]\n",
    "    \n",
    "    temp_mask = []\n",
    "    predict = predict.reshape(1, 512, 512)\n",
    "    mask = predict.reshape((1, output_size, bin_size, output_size, bin_size)).max(4).max(2) # resize to 256*256\n",
    "    temp_mask.append(mask)\n",
    "    oms = np.array(temp_mask)\n",
    "    oms = oms.reshape([oms.shape[0], output_size*output_size]).astype(int)\n",
    "\n",
    "    string = oms.flatten()\n",
    "\n",
    "    submission = submission.append({\"image_id\" : file_name, \"PredictionString\" : ' '.join(str(e) for e in string.tolist())}, \n",
    "                                   ignore_index=True)\n",
    "\n",
    "# submission.csv로 저장\n",
    "submission.to_csv(os.path.join('../output/', f'ensemble_{epoch}.csv'), index=False)"
   ]
  }
 ],
 "metadata": {
  "interpreter": {
   "hash": "c31e71a5e498f0aaae29fa2d4fcce91b7642bc45d7bb4c98f573abb4911baaab"
  },
  "kernelspec": {
   "display_name": "Python 3.7.10 64-bit ('mmseg': conda)",
   "name": "python3"
  },
  "language_info": {
   "codemirror_mode": {
    "name": "ipython",
    "version": 3
   },
   "file_extension": ".py",
   "mimetype": "text/x-python",
   "name": "python",
   "nbconvert_exporter": "python",
   "pygments_lexer": "ipython3",
   "version": "3.7.10"
  }
 },
 "nbformat": 4,
 "nbformat_minor": 4
}
